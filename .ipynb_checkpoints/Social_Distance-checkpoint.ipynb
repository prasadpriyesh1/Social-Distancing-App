{
 "cells": [
  {
   "cell_type": "code",
   "execution_count": 13,
   "metadata": {},
   "outputs": [],
   "source": [
    "import cv2\n",
    "import math"
   ]
  },
  {
   "cell_type": "code",
   "execution_count": 14,
   "metadata": {},
   "outputs": [
    {
     "data": {
      "text/plain": [
       "320.0"
      ]
     },
     "execution_count": 14,
     "metadata": {},
     "output_type": "execute_result"
    }
   ],
   "source": [
    "#some observations made by manually running some experiment on my laptop webcam\n",
    "#all the dimensions are in inch\n",
    "#actual width of the object\n",
    "WIDTH = 57\n",
    "# Perpendicular distance from the camera\n",
    "DISTANCE = 38\n",
    "#pixels covered by the object in the image\n",
    "PIXELS = 480\n",
    "# focus of the camera\n",
    "# this value will be used in future calculations\n",
    "FOCUS = PIXELS * DISTANCE / WIDTH\n",
    "FOCUS"
   ]
  },
  {
   "cell_type": "code",
   "execution_count": 15,
   "metadata": {},
   "outputs": [
    {
     "data": {
      "text/plain": [
       "(480, 640, 3)"
      ]
     },
     "execution_count": 15,
     "metadata": {},
     "output_type": "execute_result"
    }
   ],
   "source": [
    "#taking a general face dimensions\n",
    "Face = (9,8)\n",
    "faces = []\n",
    "cap = cv2.VideoCapture(0)\n",
    "status , image = cap.read()\n",
    "image.shape"
   ]
  },
  {
   "cell_type": "code",
   "execution_count": 16,
   "metadata": {},
   "outputs": [
    {
     "name": "stdout",
     "output_type": "stream",
     "text": [
      "[(57.2743, 52.36364), (-240.14948, 110.76923), (-24.85895, 38.4), (-1.0644, 17.3494), (47.29458, 47.21311)]\n",
      "[[2, 3, 4], [], [0, 3, 4], [0, 2, 4], [0, 2, 3]]\n"
     ]
    }
   ],
   "source": [
    "face_model = cv2.CascadeClassifier('haarcascade_frontalface_default.xml')\n",
    "face_cor = face_model.detectMultiScale(image)\n",
    "\n",
    "for face in face_cor:\n",
    "    y = round((Face[0]*FOCUS/(face[2])),5)\n",
    "    if face[0]   < 240:\n",
    "        P = 480 - 2*(face[0] )\n",
    "        P_ = y * P /38\n",
    "        x = round((P_ * y / (FOCUS * 2)),5)\n",
    "        x = -x\n",
    "    elif face[0]   > 240:\n",
    "        P = 2*(face[0] ) - 480\n",
    "        P_ = y * P /38\n",
    "        x = round((P_ *y / (FOCUS * 2)),5)\n",
    "    else:\n",
    "        x = 0\n",
    "    faces.append((x,y))\n",
    "print(faces)\n",
    "warning = []\n",
    "for face in faces:\n",
    "    warning.append([])\n",
    "if len(faces)>1:\n",
    "    for a in range(len(faces)):\n",
    "        for b in range(a + 1,len(faces)):\n",
    "            dist = (faces[a][0] - faces[b][0])**2 + ( faces[a][1] - faces[b][1])**2\n",
    "            dist = round(math.sqrt(dist),5)\n",
    "            if dist < 100:\n",
    "                warning[a].append(b)\n",
    "                warning[b].append(a)\n",
    "print(warning)\n",
    "\n",
    "cv2.imshow('hello' , image)\n",
    "cv2.waitKey()\n",
    "cv2.destroyAllWindows()\n",
    "cap.release()"
   ]
  },
  {
   "cell_type": "code",
   "execution_count": null,
   "metadata": {},
   "outputs": [],
   "source": []
  },
  {
   "cell_type": "code",
   "execution_count": null,
   "metadata": {},
   "outputs": [],
   "source": []
  },
  {
   "cell_type": "code",
   "execution_count": null,
   "metadata": {},
   "outputs": [],
   "source": []
  }
 ],
 "metadata": {
  "kernelspec": {
   "display_name": "Python 3",
   "language": "python",
   "name": "python3"
  },
  "language_info": {
   "codemirror_mode": {
    "name": "ipython",
    "version": 3
   },
   "file_extension": ".py",
   "mimetype": "text/x-python",
   "name": "python",
   "nbconvert_exporter": "python",
   "pygments_lexer": "ipython3",
   "version": "3.7.7"
  }
 },
 "nbformat": 4,
 "nbformat_minor": 4
}
